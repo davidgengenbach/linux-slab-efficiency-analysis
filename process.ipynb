{
 "cells": [
  {
   "cell_type": "code",
   "execution_count": 10,
   "metadata": {},
   "outputs": [
    {
     "name": "stdout",
     "output_type": "stream",
     "text": [
      "[sudo] password for vm: "
     ]
    }
   ],
   "source": [
    "HOST=\"david-vm-ubuntu\"\n",
    "!mkdir -p results\n",
    "!mv results/result results/result_`(date +%s)`\n",
    "!ssh {HOST} 'cd projects; echo \"a\" | sudo -S ./save_slab_orders.sh'\n",
    "!scp -r -q {HOST}:projects/result results\n",
    "!ssh {HOST} 'ls -l projects/result | cut -d \">\" -f 2' > results/result/job"
   ]
  },
  {
   "cell_type": "code",
   "execution_count": 14,
   "metadata": {},
   "outputs": [],
   "source": [
    "import os\n",
    "\n",
    "FOLDER = 'results/result'\n",
    "FILE = FOLDER + '/slabinfo'\n",
    "IMAGE_FOLDER = 'images'\n",
    "\n",
    "os.makedirs(IMAGE_FOLDER, exist_ok=True)\n",
    "\n",
    "\n",
    "with open(FOLDER + '/job') as f:\n",
    "    job_name = f.read().strip()\n",
    "\n",
    "with open(FILE) as f:\n",
    "    c = f.read().splitlines()\n",
    "\n",
    "data = []\n",
    "current = None\n",
    "\n",
    "SKIP_LINES = ['# name', 'slabinfo']\n",
    "\n",
    "headers = [\n",
    "    'time',\n",
    "    'name',\n",
    "    'active_objs',\n",
    "    'num_objs',\n",
    "    'objsize',\n",
    "    'objperslab',\n",
    "    'pagesperslab',\n",
    "    'tunables',\n",
    "    'limit',\n",
    "    'batchcount',\n",
    "    'sharedfactor',\n",
    "    'slabdata',\n",
    "    'active_slabs',\n",
    "    'num_slabs',\n",
    "    'sharedavail',\n",
    "]\n",
    "\n",
    "with open(FOLDER + '/orders') as f:\n",
    "    orders = {x.split()[0]: int(x.split()[1]) for x in f.readlines()}\n",
    "\n",
    "def convert_num(x):\n",
    "    try:\n",
    "        return int(x)\n",
    "    except:\n",
    "        return x\n",
    "\n",
    "for line in c:\n",
    "    if line.startswith('time:'):\n",
    "        current = int(line.split()[-1])\n",
    "        continue\n",
    "    if line.startswith('# name'):\n",
    "        continue\n",
    "    if line.startswith('slabinfo'):\n",
    "        continue\n",
    "    \n",
    "    l = [current] + [convert_num(x.strip()) for x in line.split() if x is not ':']\n",
    "    assert len(l) == len(headers)\n",
    "    data.append(l)"
   ]
  },
  {
   "cell_type": "code",
   "execution_count": 15,
   "metadata": {},
   "outputs": [
    {
     "name": "stdout",
     "output_type": "stream",
     "text": [
      "Duration: 3.13 minutes\n"
     ]
    },
    {
     "data": {
      "image/png": "[encoded data removed]",
      "text/plain": [
       "<Figure size 576x288 with 1 Axes>"
      ]
     },
     "metadata": {
      "needs_background": "light"
     },
     "output_type": "display_data"
    }
   ],
   "source": [
    "%matplotlib inline\n",
    "import pandas as pd\n",
    "import matplotlib.pyplot as plt\n",
    "\n",
    "df = pd.DataFrame(data, columns=headers)\n",
    "\n",
    "#df = df[df.name == 'dentry']\n",
    "\n",
    "df['order'] = df.name.apply(lambda x: orders.get(x, 0))\n",
    "df['page_size'] = 4096\n",
    "\n",
    "df['active_vs_num'] = df.active_objs / df.num_objs\n",
    "\n",
    "df['ef'] = df.num_objs * df.objsize * 100 / (df.num_slabs * (df.page_size * 2 ** df.order))\n",
    "\n",
    "#df.plot(x='time', y='ef', figsize=(10, 4))\n",
    "ax = df.ef.plot(kind='hist', bins=100, figsize=(8, 4))\n",
    "\n",
    "#ax.set_title(f'SLAB efficiency\\nJob: {job_name}')\n",
    "ax.set_xlabel('Efficiency in %')\n",
    "\n",
    "def sanitize_name(x):\n",
    "    return x.replace('/', '___')\n",
    "\n",
    "plt.savefig(f'{IMAGE_FOLDER}/{sanitize_name(job_name)}.png')\n",
    "\n",
    "duration_in_seconds = max(df.time.values) - min(df.time.values)\n",
    "print(f'Duration: {duration_in_seconds / 60:.2f} minutes')"
   ]
  },
  {
   "cell_type": "code",
   "execution_count": 13,
   "metadata": {},
   "outputs": [
    {
     "data": {
      "text/plain": [
       "'/lkp/result/fsmark/1HDD-9B-ext4-1x-16d-256fpd-32t-fsyncBeforeClose-400M/david-vm-ubuntu/ubuntu/x86_64-rhel-7.6/gcc-7/5.0.0-31-generic/2'"
      ]
     },
     "execution_count": 13,
     "metadata": {},
     "output_type": "execute_result"
    }
   ],
   "source": [
    "job_name\n"
   ]
  }
 ],
 "metadata": {
  "kernelspec": {
   "display_name": "Python 3",
   "language": "python",
   "name": "python3"
  },
  "language_info": {
   "codemirror_mode": {
    "name": "ipython",
    "version": 3
   },
   "file_extension": ".py",
   "mimetype": "text/x-python",
   "name": "python",
   "nbconvert_exporter": "python",
   "pygments_lexer": "ipython3",
   "version": "3.7.3"
  }
 },
 "nbformat": 4,
 "nbformat_minor": 2
}
