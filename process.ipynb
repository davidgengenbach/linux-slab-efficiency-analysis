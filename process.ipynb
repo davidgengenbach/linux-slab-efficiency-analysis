{
 "cells": [
  {
   "cell_type": "markdown",
   "metadata": {},
   "source": [
    "# SLAB benchmark analysis\n",
    "\n",
    "\n",
    "In this notebook, I retrieve the results from a [lkp-tests](https://github.com/intel/lkp-tests) benchmark and process the `slabinfo` file in it.\n",
    "\n",
    "The raw benchmark result data resides in [result_\\[157081564\\]](results/result_%5B1570815643%5D/).\n",
    "\n",
    "**NOTE:** The specs of the used VM are attached at the end of this notebook.\n",
    "\n",
    "**Benchmark name:** `fsmark-1hdd-1HDD-9B-ext4-1x-16d-256fpd-32t-fsyncBeforeClose-400M.yaml`\n",
    "\n",
    "## How the efficiency was calculated\n",
    "\n",
    "\n",
    "The efficiency means how much space the used objects need in principle, divided by the real memory usage.\n",
    "\n",
    "> efficiency_in_percent = (num_objs * objsize * 100) / (num_slabs * (page_size * 2 ** order))\n",
    "\n",
    "The efficiency is calculated individually for each slab cache seperatedly in time.\n",
    "\n",
    "Taken from [linux/tools/vm/slabinfo.c](https://github.com/torvalds/linux/blob/8a8c600de5dc1d9a7f4b83269fddc80ebd3dd045/tools/vm/slabinfo.c#L644)\n",
    "\n",
    "\n",
    "## Install instructions\n",
    "\n",
    "```bash\n",
    "# or via ssh\n",
    "git clone --depth 1 https://github.com/intel/lkp-tests\n",
    "\n",
    "cd lkp-tests\n",
    "# If this fails, try another OS\n",
    "sudo make install\n",
    "\n",
    "cd ..\n",
    "\n",
    "# Adapt the lkp-tests/hosts/YOUR_HOSTNAME file to have a `hdd_partition` section\n",
    "# You can use the `create-block-device.sh` script provided in the root of this repository \n",
    "\n",
    "# This MUST be done after EVERY change to the \"lkp-tests/hosts/YOUR_HOSTNAME\" file!\n",
    "lkp split lkp-tests/jobs/fsmark-1hdd.yaml\n",
    "\n",
    "sudo lkp install fsmark-1hdd-1HDD-9B-ext4-1x-16d-256fpd-32t-fsyncBeforeClose-400M.yaml\n",
    "sudo lkp run fsmark-1hdd-1HDD-9B-ext4-1x-16d-256fpd-32t-fsyncBeforeClose-400M.yaml\n",
    "```"
   ]
  },
  {
   "cell_type": "code",
   "execution_count": 19,
   "metadata": {},
   "outputs": [
    {
     "name": "stdout",
     "output_type": "stream",
     "text": [
      "[NbConvertApp] Converting notebook process.ipynb to rst\n",
      "[NbConvertApp] Support files will be in process_files/\n",
      "[NbConvertApp] Making directory process_files\n",
      "[NbConvertApp] Making directory process_files\n",
      "[NbConvertApp] Making directory process_files\n",
      "[NbConvertApp] Making directory process_files\n",
      "[NbConvertApp] Making directory process_files\n",
      "[NbConvertApp] Writing 19560 bytes to process.rst\n"
     ]
    }
   ],
   "source": [
    "# Convert this notebook\n",
    "!jupyter nbconvert --to rst process.ipynb"
   ]
  },
  {
   "cell_type": "markdown",
   "metadata": {},
   "source": [
    "## Retrieve lkp-tests result folder from VM"
   ]
  },
  {
   "cell_type": "code",
   "execution_count": 2,
   "metadata": {},
   "outputs": [
    {
     "name": "stdout",
     "output_type": "stream",
     "text": [
      "[sudo] password for vm: "
     ]
    }
   ],
   "source": [
    "HOST=\"david-vm-ubuntu\"\n",
    "TIMESTAMP = !date +%s\n",
    "!mkdir -p results\n",
    "!ssh {HOST} 'cd projects; echo \"a\" | sudo -S ./save_slab_orders.sh'\n",
    "!scp -r -q {HOST}:projects/result results/result_{TIMESTAMP}\n",
    "!ssh {HOST} 'ls -l projects/result | cut -d \">\" -f 2' > results/result_{TIMESTAMP}/job"
   ]
  },
  {
   "cell_type": "markdown",
   "metadata": {},
   "source": [
    "### Setup visualizations"
   ]
  },
  {
   "cell_type": "code",
   "execution_count": 12,
   "metadata": {},
   "outputs": [],
   "source": [
    "%matplotlib inline\n",
    "import pandas as pd\n",
    "import matplotlib.pyplot as plt\n",
    "import matplotlib\n",
    "import seaborn as sns\n",
    "\n",
    "sns.set_style('whitegrid')\n",
    "\n",
    "matplotlib.rcParams['figure.figsize'] = (10.0, 6.0)"
   ]
  },
  {
   "cell_type": "markdown",
   "metadata": {},
   "source": [
    "## Parse results"
   ]
  },
  {
   "cell_type": "code",
   "execution_count": 4,
   "metadata": {},
   "outputs": [
    {
     "data": {
      "text/plain": [
       "'/lkp/result/fsmark/1HDD-9B-ext4-1x-16d-256fpd-32t-fsyncBeforeClose-400M/david-vm-ubuntu/ubuntu/x86_64-rhel-7.6/gcc-7/5.0.0-31-generic/13'"
      ]
     },
     "execution_count": 4,
     "metadata": {},
     "output_type": "execute_result"
    }
   ],
   "source": [
    "import os\n",
    "from glob import glob\n",
    "FOLDER = sorted(glob('results/result_*'))[-1]\n",
    "IMAGE_FOLDER = 'images'\n",
    "\n",
    "os.makedirs(IMAGE_FOLDER, exist_ok=True)\n",
    "\n",
    "with open(FOLDER + '/job') as f:\n",
    "    job_name = f.read().strip()\n",
    "\n",
    "with open(FOLDER + '/slabinfo') as f:\n",
    "    slab_info = f.read().splitlines()\n",
    "\n",
    "with open(FOLDER + '/slabinfo_tool') as f:\n",
    "    slab_info_tool = f.read().splitlines()\n",
    "\n",
    "with open(FOLDER + '/orders') as f:\n",
    "    orders = {x.split()[0]: int(x.split()[1]) for x in f.readlines()}\n",
    "\n",
    "def convert_num(x):\n",
    "    try:\n",
    "        return int(x)\n",
    "    except:\n",
    "        return x\n",
    "\n",
    "def parse_slabinfo_log(lkp_tests_slab_info):\n",
    "    data = []\n",
    "    current = None\n",
    "    \n",
    "    for line in lkp_tests_slab_info:\n",
    "        if line.startswith('time:'):\n",
    "            current = int(line.split()[-1])\n",
    "            continue\n",
    "\n",
    "        l = [current] + [convert_num(x.strip()) for x in line.split() if x is not ':']\n",
    "\n",
    "        data.append(l)\n",
    "    return data\n",
    "\n",
    "job_name"
   ]
  },
  {
   "cell_type": "markdown",
   "metadata": {},
   "source": [
    "## slabinfo tool\n",
    "\n",
    "See [slabinfo.c](https://github.com/torvalds/linux/blob/8a8c600de5dc1d9a7f4b83269fddc80ebd3dd045/tools/vm/slabinfo.c) for more information.\n",
    "\n",
    "The tool uses `/sys/kernel/slab/...` and **NOT** `/proc/slabinfo`.\n",
    "\n",
    "The raw data resides in the [slabinfo_tool file in the results folder](https://raw.githubusercontent.com/davidgengenbach/linux-slab-efficiency-analysis/master/results/result_%5B1570815643%5D/slabinfo_tool).\n",
    "\n",
    "**NOTE:** So I added a custom monitor to `lkp-tests` which gathers the data extracted by the [linux/tools/vm/slabinfo.c](https://github.com/torvalds/linux/blob/8a8c600de5dc1d9a7f4b83269fddc80ebd3dd045/tools/vm/slabinfo.c) tool since `lkp-tests` did not provide this data."
   ]
  },
  {
   "cell_type": "code",
   "execution_count": 5,
   "metadata": {},
   "outputs": [],
   "source": [
    "import pandas as pd\n",
    "\n",
    "# Headers taken from output of `slabinfo`\n",
    "SLABINFO_TOOL_HEADERS = [\n",
    "    'time', # added\n",
    "    'name',\n",
    "    'objects',\n",
    "    'object_size',\n",
    "    'space',\n",
    "    'slabs_part_cpu',\n",
    "    'o_s',\n",
    "    'o',\n",
    "    'percent_free',\n",
    "    'percent_efficient',\n",
    "    'flags'\n",
    "]\n",
    "\n",
    "df_slabinfo_tool = pd.DataFrame(\n",
    "    # Ignore header\n",
    "    [x for x in parse_slabinfo_log(slab_info_tool) if not x[1].startswith('Name')],\n",
    "    columns = SLABINFO_TOOL_HEADERS\n",
    ")\n",
    "\n",
    "# Filter out \"filp\" cache which has a efficiency above 100%?\n",
    "df_slabinfo_tool = df_slabinfo_tool[df_slabinfo_tool.percent_efficient <= 100]\n",
    "\n",
    "# Converts the '10.9K' and '10.1M' space notation to numbers (Kb)\n",
    "def normalize_space(x):\n",
    "    num = float(x[:-1])\n",
    "    if x.endswith('M'):\n",
    "        num = num * 1024\n",
    "    return num\n",
    "\n",
    "df_slabinfo_tool['space_normalized_in_kb'] = df_slabinfo_tool.space.apply(normalize_space)\n",
    "# Check that the only suffixes are 'K' (kilo) and 'M' (mega)\n",
    "for idx, x in df_slabinfo_tool.space.iteritems():\n",
    "    assert(x.endswith('K') or x.endswith('M'))"
   ]
  },
  {
   "cell_type": "markdown",
   "metadata": {},
   "source": [
    "### Plot efficiency (histogram) "
   ]
  },
  {
   "cell_type": "code",
   "execution_count": 13,
   "metadata": {},
   "outputs": [
    {
     "data": {
      "text/plain": [
       "<matplotlib.axes._subplots.AxesSubplot at 0x7f1170465f28>"
      ]
     },
     "execution_count": 13,
     "metadata": {},
     "output_type": "execute_result"
    },
    {
     "data": {
      "image/png": "[encoded data removed]",
      "text/plain": [
       "<Figure size 720x432 with 1 Axes>"
      ]
     },
     "metadata": {},
     "output_type": "display_data"
    }
   ],
   "source": [
    "df_slabinfo_tool.percent_efficient.plot(kind='hist', bins=60)"
   ]
  },
  {
   "cell_type": "markdown",
   "metadata": {},
   "source": [
    "### Plot efficiency (timeline)"
   ]
  },
  {
   "cell_type": "code",
   "execution_count": 14,
   "metadata": {},
   "outputs": [
    {
     "data": {
      "text/plain": [
       "Text(0.5,1,'Average SLAB efficiency over time')"
      ]
     },
     "execution_count": 14,
     "metadata": {},
     "output_type": "execute_result"
    },
    {
     "data": {
      "image/png": "[encoded data removed]",
      "text/plain": [
       "<Figure size 720x432 with 1 Axes>"
      ]
     },
     "metadata": {},
     "output_type": "display_data"
    }
   ],
   "source": [
    "ax = df_slabinfo_tool.groupby('time').percent_efficient.mean().plot()\n",
    "ax.set_title('Average SLAB efficiency over time')"
   ]
  },
  {
   "cell_type": "markdown",
   "metadata": {},
   "source": [
    "### Calculate and plot weighted efficiency (timeline)\n",
    "\n",
    "The weighted efficiency takes the size of the cache into consideration"
   ]
  },
  {
   "cell_type": "code",
   "execution_count": 15,
   "metadata": {},
   "outputs": [
    {
     "data": {
      "text/plain": [
       "Text(0.5,1,'Weighted average SLAB efficiency over time')"
      ]
     },
     "execution_count": 15,
     "metadata": {},
     "output_type": "execute_result"
    },
    {
     "data": {
      "image/png": "[encoded data removed]",
      "text/plain": [
       "<Figure size 720x432 with 1 Axes>"
      ]
     },
     "metadata": {},
     "output_type": "display_data"
    }
   ],
   "source": [
    "import numpy as np\n",
    "\n",
    "# Taken from: https://stackoverflow.com/a/33054358\n",
    "weighted_average_efficiency = df_slabinfo_tool.groupby('time').apply(lambda x: np.average(x.percent_efficient, weights=x.space_normalized_in_kb))\n",
    "ax = weighted_average_efficiency.plot()\n",
    "ax.set_title('Weighted average SLAB efficiency over time')"
   ]
  },
  {
   "cell_type": "markdown",
   "metadata": {},
   "source": [
    "### Plot efficiency of specific cache (dentry)"
   ]
  },
  {
   "cell_type": "code",
   "execution_count": 16,
   "metadata": {},
   "outputs": [
    {
     "data": {
      "text/plain": [
       "<matplotlib.axes._subplots.AxesSubplot at 0x7f1170219860>"
      ]
     },
     "execution_count": 16,
     "metadata": {},
     "output_type": "execute_result"
    },
    {
     "data": {
      "image/png": "[encoded data removed]",
      "text/plain": [
       "<Figure size 720x432 with 1 Axes>"
      ]
     },
     "metadata": {},
     "output_type": "display_data"
    }
   ],
   "source": [
    "dentries = df_slabinfo_tool[df_slabinfo_tool.name == 'dentry']\n",
    "dentries.plot(x='time', y='percent_efficient')"
   ]
  },
  {
   "cell_type": "markdown",
   "metadata": {},
   "source": [
    "### Most inefficient cache \n",
    "\n",
    "Get most inefficient cache - averaged over time."
   ]
  },
  {
   "cell_type": "code",
   "execution_count": 17,
   "metadata": {},
   "outputs": [
    {
     "data": {
      "text/html": [
       "<div>\n",
       "<style scoped>\n",
       "    .dataframe tbody tr th:only-of-type {\n",
       "        vertical-align: middle;\n",
       "    }\n",
       "\n",
       "    .dataframe tbody tr th {\n",
       "        vertical-align: top;\n",
       "    }\n",
       "\n",
       "    .dataframe thead th {\n",
       "        text-align: right;\n",
       "    }\n",
       "</style>\n",
       "<table border=\"1\" class=\"dataframe\">\n",
       "  <thead>\n",
       "    <tr style=\"text-align: right;\">\n",
       "      <th></th>\n",
       "      <th>percent_efficient</th>\n",
       "      <th>space_normalized_in_kb</th>\n",
       "    </tr>\n",
       "    <tr>\n",
       "      <th>name</th>\n",
       "      <th></th>\n",
       "      <th></th>\n",
       "    </tr>\n",
       "  </thead>\n",
       "  <tbody>\n",
       "    <tr>\n",
       "      <th>scsi_sense_cache</th>\n",
       "      <td>75.000000</td>\n",
       "      <td>20.400000</td>\n",
       "    </tr>\n",
       "    <tr>\n",
       "      <th>skbuff_head_cache</th>\n",
       "      <td>76.000000</td>\n",
       "      <td>98.300000</td>\n",
       "    </tr>\n",
       "    <tr>\n",
       "      <th>task_struct</th>\n",
       "      <td>82.323864</td>\n",
       "      <td>3993.600000</td>\n",
       "    </tr>\n",
       "    <tr>\n",
       "      <th>names_cache</th>\n",
       "      <td>83.034091</td>\n",
       "      <td>431.680114</td>\n",
       "    </tr>\n",
       "    <tr>\n",
       "      <th>:a-0000256</th>\n",
       "      <td>83.965909</td>\n",
       "      <td>104.541477</td>\n",
       "    </tr>\n",
       "    <tr>\n",
       "      <th>anon_vma</th>\n",
       "      <td>85.039773</td>\n",
       "      <td>819.292045</td>\n",
       "    </tr>\n",
       "    <tr>\n",
       "      <th>cred_jar</th>\n",
       "      <td>86.000000</td>\n",
       "      <td>257.767045</td>\n",
       "    </tr>\n",
       "    <tr>\n",
       "      <th>:0000320</th>\n",
       "      <td>86.000000</td>\n",
       "      <td>368.600000</td>\n",
       "    </tr>\n",
       "    <tr>\n",
       "      <th>squashfs_inode_cache</th>\n",
       "      <td>89.000000</td>\n",
       "      <td>11059.200000</td>\n",
       "    </tr>\n",
       "    <tr>\n",
       "      <th>kmem_cache</th>\n",
       "      <td>90.000000</td>\n",
       "      <td>65.500000</td>\n",
       "    </tr>\n",
       "    <tr>\n",
       "      <th>biovec-max</th>\n",
       "      <td>90.886364</td>\n",
       "      <td>961.258523</td>\n",
       "    </tr>\n",
       "    <tr>\n",
       "      <th>TCPv6</th>\n",
       "      <td>91.000000</td>\n",
       "      <td>131.000000</td>\n",
       "    </tr>\n",
       "    <tr>\n",
       "      <th>:0000256</th>\n",
       "      <td>91.869318</td>\n",
       "      <td>208.250000</td>\n",
       "    </tr>\n",
       "    <tr>\n",
       "      <th>bdev_cache</th>\n",
       "      <td>92.000000</td>\n",
       "      <td>65.500000</td>\n",
       "    </tr>\n",
       "    <tr>\n",
       "      <th>jbd2_journal_head</th>\n",
       "      <td>92.000000</td>\n",
       "      <td>190.690909</td>\n",
       "    </tr>\n",
       "    <tr>\n",
       "      <th>kmalloc-1k</th>\n",
       "      <td>93.000000</td>\n",
       "      <td>1331.200000</td>\n",
       "    </tr>\n",
       "    <tr>\n",
       "      <th>request_sock_TCP</th>\n",
       "      <td>93.000000</td>\n",
       "      <td>8.100000</td>\n",
       "    </tr>\n",
       "    <tr>\n",
       "      <th>kernfs_node_cache</th>\n",
       "      <td>93.000000</td>\n",
       "      <td>3788.800000</td>\n",
       "    </tr>\n",
       "    <tr>\n",
       "      <th>file_lock_cache</th>\n",
       "      <td>94.000000</td>\n",
       "      <td>16.300000</td>\n",
       "    </tr>\n",
       "    <tr>\n",
       "      <th>request_queue</th>\n",
       "      <td>94.000000</td>\n",
       "      <td>131.000000</td>\n",
       "    </tr>\n",
       "    <tr>\n",
       "      <th>proc_inode_cache</th>\n",
       "      <td>94.000000</td>\n",
       "      <td>6656.000000</td>\n",
       "    </tr>\n",
       "    <tr>\n",
       "      <th>dax_cache</th>\n",
       "      <td>94.000000</td>\n",
       "      <td>32.700000</td>\n",
       "    </tr>\n",
       "    <tr>\n",
       "      <th>:a-0000104</th>\n",
       "      <td>94.926136</td>\n",
       "      <td>102185.309091</td>\n",
       "    </tr>\n",
       "    <tr>\n",
       "      <th>kmalloc-2k</th>\n",
       "      <td>95.000000</td>\n",
       "      <td>2048.000000</td>\n",
       "    </tr>\n",
       "    <tr>\n",
       "      <th>mm_struct</th>\n",
       "      <td>95.000000</td>\n",
       "      <td>392.827273</td>\n",
       "    </tr>\n",
       "    <tr>\n",
       "      <th>net_namespace</th>\n",
       "      <td>95.000000</td>\n",
       "      <td>65.500000</td>\n",
       "    </tr>\n",
       "    <tr>\n",
       "      <th>rpc_inode_cache</th>\n",
       "      <td>95.000000</td>\n",
       "      <td>16.300000</td>\n",
       "    </tr>\n",
       "    <tr>\n",
       "      <th>sighand_cache</th>\n",
       "      <td>95.000000</td>\n",
       "      <td>916.754545</td>\n",
       "    </tr>\n",
       "    <tr>\n",
       "      <th>dmaengine-unmap-256</th>\n",
       "      <td>95.000000</td>\n",
       "      <td>32.700000</td>\n",
       "    </tr>\n",
       "    <tr>\n",
       "      <th>:0000392</th>\n",
       "      <td>95.000000</td>\n",
       "      <td>16.300000</td>\n",
       "    </tr>\n",
       "  </tbody>\n",
       "</table>\n",
       "</div>"
      ],
      "text/plain": [
       "                      percent_efficient  space_normalized_in_kb\n",
       "name                                                           \n",
       "scsi_sense_cache              75.000000               20.400000\n",
       "skbuff_head_cache             76.000000               98.300000\n",
       "task_struct                   82.323864             3993.600000\n",
       "names_cache                   83.034091              431.680114\n",
       ":a-0000256                    83.965909              104.541477\n",
       "anon_vma                      85.039773              819.292045\n",
       "cred_jar                      86.000000              257.767045\n",
       ":0000320                      86.000000              368.600000\n",
       "squashfs_inode_cache          89.000000            11059.200000\n",
       "kmem_cache                    90.000000               65.500000\n",
       "biovec-max                    90.886364              961.258523\n",
       "TCPv6                         91.000000              131.000000\n",
       ":0000256                      91.869318              208.250000\n",
       "bdev_cache                    92.000000               65.500000\n",
       "jbd2_journal_head             92.000000              190.690909\n",
       "kmalloc-1k                    93.000000             1331.200000\n",
       "request_sock_TCP              93.000000                8.100000\n",
       "kernfs_node_cache             93.000000             3788.800000\n",
       "file_lock_cache               94.000000               16.300000\n",
       "request_queue                 94.000000              131.000000\n",
       "proc_inode_cache              94.000000             6656.000000\n",
       "dax_cache                     94.000000               32.700000\n",
       ":a-0000104                    94.926136           102185.309091\n",
       "kmalloc-2k                    95.000000             2048.000000\n",
       "mm_struct                     95.000000              392.827273\n",
       "net_namespace                 95.000000               65.500000\n",
       "rpc_inode_cache               95.000000               16.300000\n",
       "sighand_cache                 95.000000              916.754545\n",
       "dmaengine-unmap-256           95.000000               32.700000\n",
       ":0000392                      95.000000               16.300000"
      ]
     },
     "execution_count": 17,
     "metadata": {},
     "output_type": "execute_result"
    }
   ],
   "source": [
    "caches_sorted_by_efficiency = df_slabinfo_tool.groupby('name').mean().sort_values('percent_efficient')\n",
    "caches_sorted_by_efficiency[['percent_efficient', 'space_normalized_in_kb']].head(30)"
   ]
  },
  {
   "cell_type": "markdown",
   "metadata": {},
   "source": [
    "## /proc/slabinfo\n",
    "\n",
    "**Not to be confused with the output of the `slabinfo` tool!**"
   ]
  },
  {
   "cell_type": "markdown",
   "metadata": {},
   "source": [
    "### Create visualizations"
   ]
  },
  {
   "cell_type": "code",
   "execution_count": 18,
   "metadata": {},
   "outputs": [
    {
     "name": "stdout",
     "output_type": "stream",
     "text": [
      "Test took: 3.15 minutes\n"
     ]
    },
    {
     "data": {
      "image/png": "[encoded data removed]",
      "text/plain": [
       "<Figure size 1008x288 with 1 Axes>"
      ]
     },
     "metadata": {},
     "output_type": "display_data"
    }
   ],
   "source": [
    "# Extracted from `/proc/slabinfo`\n",
    "headers = [\n",
    "    'time',\n",
    "    'name',\n",
    "    'active_objs',\n",
    "    'num_objs',\n",
    "    'objsize',\n",
    "    'objperslab',\n",
    "    'pagesperslab',\n",
    "    'tunables',\n",
    "    'limit',\n",
    "    'batchcount',\n",
    "    'sharedfactor',\n",
    "    'slabdata',\n",
    "    'active_slabs',\n",
    "    'num_slabs',\n",
    "    'sharedavail',\n",
    "]\n",
    "data = parse_slabinfo_log(slab_info)\n",
    "\n",
    "data = [x for x in data\n",
    "        if not x[1].startswith('# name')\n",
    "        and not x[1].startswith('slabinfo')\n",
    "        and len(x) == len(headers)]\n",
    "\n",
    "\n",
    "# Sanity check!\n",
    "for l in data: assert len(l) == len(headers)\n",
    "\n",
    "df = pd.DataFrame(data, columns=headers)\n",
    "\n",
    "#df = df[df.name == 'dentry']\n",
    "\n",
    "df['order'] = df.name.apply(lambda x: orders.get(x, 0))\n",
    "df['page_size'] = 4096\n",
    "\n",
    "df['active_vs_num'] = df.active_objs / df.num_objs\n",
    "\n",
    "df['ef'] = df.num_objs * df.objsize * 100 / (df.num_slabs * (df.page_size * 2 ** df.order))\n",
    "\n",
    "ax = df.ef.plot(kind='hist', bins=100, figsize=(14, 4))\n",
    "\n",
    "ax.set_title(f'SLAB efficiency (histogram)')\n",
    "ax.set_xlabel('Efficiency in %')\n",
    "\n",
    "def sanitize_name(x):\n",
    "    return x.replace('/', '___')\n",
    "\n",
    "plt.savefig(f'{IMAGE_FOLDER}/{sanitize_name(job_name)}.png')\n",
    "\n",
    "duration_in_seconds = max(df.time.values) - min(df.time.values)\n",
    "print(f'Test took: {duration_in_seconds / 60:.2f} minutes')"
   ]
  },
  {
   "cell_type": "markdown",
   "metadata": {},
   "source": [
    "## VM specs\n",
    "\n",
    "**uname -a**: Linux david-vm-ubuntu 5.0.0-31-generic #33~18.04.1-Ubuntu SMP Tue Oct 1 10:20:39 UTC 2019 x86_64 x86_64 x86_64 GNU/Linux"
   ]
  },
  {
   "cell_type": "markdown",
   "metadata": {},
   "source": [
    "<pre>\n",
    "Name:                        Ubuntu\n",
    "Groups:                      /\n",
    "Guest OS:                    Ubuntu (64-bit)\n",
    "UUID:                        517d91b9-e324-470f-b1f3-dcaf40f3ab01\n",
    "Config file:                 /home/dgengenbach/VirtualBox VMs/Ubuntu/Ubuntu.vbox\n",
    "Snapshot folder:             /home/dgengenbach/VirtualBox VMs/Ubuntu/Snapshots\n",
    "Log folder:                  /home/dgengenbach/VirtualBox VMs/Ubuntu/Logs\n",
    "Hardware UUID:               517d91b9-e324-470f-b1f3-dcaf40f3ab01\n",
    "Memory size                  16384MB\n",
    "Page Fusion:                 disabled\n",
    "VRAM size:                   16MB\n",
    "CPU exec cap:                100%\n",
    "HPET:                        disabled\n",
    "CPUProfile:                  host\n",
    "Chipset:                     piix3\n",
    "Firmware:                    BIOS\n",
    "Number of CPUs:              4\n",
    "PAE:                         disabled\n",
    "Long Mode:                   enabled\n",
    "Triple Fault Reset:          disabled\n",
    "APIC:                        enabled\n",
    "X2APIC:                      enabled\n",
    "Nested VT-x/AMD-V:           disabled\n",
    "CPUID Portability Level:     0\n",
    "CPUID overrides:             None\n",
    "Boot menu mode:              message and menu\n",
    "Boot Device 1:               Floppy\n",
    "Boot Device 2:               DVD\n",
    "Boot Device 3:               HardDisk\n",
    "Boot Device 4:               Not Assigned\n",
    "ACPI:                        enabled\n",
    "IOAPIC:                      enabled\n",
    "BIOS APIC mode:              APIC\n",
    "Time offset:                 0ms\n",
    "RTC:                         UTC\n",
    "Hardw. virt.ext:             enabled\n",
    "Nested Paging:               enabled\n",
    "Large Pages:                 disabled\n",
    "VT-x VPID:                   enabled\n",
    "VT-x unr. exec.:             enabled\n",
    "Paravirt. Provider:          Default\n",
    "Effective Paravirt. Prov.:   KVM\n",
    "State:                       running (since 2019-10-10T10:10:24.186000000)\n",
    "Monitor count:               1\n",
    "3D Acceleration:             disabled\n",
    "2D Video Acceleration:       disabled\n",
    "Teleporter Enabled:          disabled\n",
    "Teleporter Port:             0\n",
    "Teleporter Address:          \n",
    "Teleporter Password:         \n",
    "Tracing Enabled:             disabled\n",
    "Allow Tracing to Access VM:  disabled\n",
    "Tracing Configuration:       \n",
    "Autostart Enabled:           disabled\n",
    "Autostart Delay:             0\n",
    "Default Frontend:            \n",
    "Storage Controller Name (0):            IDE\n",
    "Storage Controller Type (0):            PIIX4\n",
    "Storage Controller Instance Number (0): 0\n",
    "Storage Controller Max Port Count (0):  2\n",
    "Storage Controller Port Count (0):      2\n",
    "Storage Controller Bootable (0):        on\n",
    "Storage Controller Name (1):            SATA\n",
    "Storage Controller Type (1):            IntelAhci\n",
    "Storage Controller Instance Number (1): 0\n",
    "Storage Controller Max Port Count (1):  30\n",
    "Storage Controller Port Count (1):      1\n",
    "Storage Controller Bootable (1):        on\n",
    "IDE (1, 0): Empty\n",
    "SATA (0, 0): /home/dgengenbach/VirtualBox VMs/Ubuntu/Ubuntu.vdi (UUID: 466e9eb9-b4f4-4088-9a6f-fc60775b5c8c)\n",
    "NIC 1:                       MAC: 080027CA5503, Attachment: Bridged Interface 'eno1', Cable connected: on, Trace: off (file: none), Type: 82540EM, Reported speed: 0 Mbps, Boot priority: 0, Promisc Policy: deny, Bandwidth group: none\n",
    "NIC 2:                       disabled\n",
    "NIC 3:                       disabled\n",
    "NIC 4:                       disabled\n",
    "NIC 5:                       disabled\n",
    "NIC 6:                       disabled\n",
    "NIC 7:                       disabled\n",
    "NIC 8:                       disabled\n",
    "Pointing Device:             USB Tablet\n",
    "Keyboard Device:             PS/2 Keyboard\n",
    "UART 1:                      disabled\n",
    "UART 2:                      disabled\n",
    "UART 3:                      disabled\n",
    "UART 4:                      disabled\n",
    "LPT 1:                       disabled\n",
    "LPT 2:                       disabled\n",
    "Audio:                       enabled (Driver: PulseAudio, Controller: AC97, Codec: AD1980)\n",
    "Audio playback:              enabled\n",
    "Audio capture:               disabled\n",
    "Clipboard Mode:              disabled\n",
    "Drag and drop Mode:          disabled\n",
    "Session name:                headless\n",
    "Video mode:                  800x600x32 at 0,0 enabled\n",
    "VRDE:                        disabled\n",
    "OHCI USB:                    enabled\n",
    "EHCI USB:                    disabled\n",
    "xHCI USB:                    disabled\n",
    "\n",
    "USB Device Filters:\n",
    "\n",
    "<none>\n",
    "\n",
    "Available remote USB devices:\n",
    "\n",
    "<none>\n",
    "\n",
    "Currently Attached USB Devices:\n",
    "\n",
    "<none>\n",
    "\n",
    "Bandwidth groups:  <none>\n",
    "\n",
    "Shared folders:<none>\n",
    "\n",
    "VRDE Connection:             not active\n",
    "Clients so far:              0\n",
    "\n",
    "Capturing:                   not active\n",
    "Capture audio:               not active\n",
    "Capture screens:             0\n",
    "Capture file:                /home/dgengenbach/VirtualBox VMs/Ubuntu/Ubuntu.webm\n",
    "Capture dimensions:          1024x768\n",
    "Capture rate:                512kbps\n",
    "Capture FPS:                 25kbps\n",
    "Capture options:             \n",
    "\n",
    "Guest:\n",
    "\n",
    "Configured memory balloon size: 0MB\n",
    "OS type:                     Linux26_64\n",
    "Additions run level:         1\n",
    "Additions version            6.0.6_KernelUbuntu r129722\n",
    "\n",
    "Guest Facilities:\n",
    "\n",
    "Facility \"VirtualBox Base Driver\": active/running (last update: 2019/10/10 10:10:31 UTC)\n",
    "Facility \"Seamless Mode\": not active (last update: 2019/10/10 10:10:31 UTC)\n",
    "Facility \"Graphics Mode\": not active (last update: 2019/10/10 10:10:31 UTC)\n",
    "</pre>"
   ]
  }
 ],
 "metadata": {
  "kernelspec": {
   "display_name": "Python 3",
   "language": "python",
   "name": "python3"
  },
  "language_info": {
   "codemirror_mode": {
    "name": "ipython",
    "version": 3
   },
   "file_extension": ".py",
   "mimetype": "text/x-python",
   "name": "python",
   "nbconvert_exporter": "python",
   "pygments_lexer": "ipython3",
   "version": "3.6.5"
  }
 },
 "nbformat": 4,
 "nbformat_minor": 2
}
