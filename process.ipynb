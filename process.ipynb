{
 "cells": [
  {
   "cell_type": "markdown",
   "metadata": {},
   "source": [
    "# SLAB benchmark analysis\n",
    "\n",
    "\n",
    "In this notebook, I retrieve the results from a [lkp-tests](https://github.com/intel/lkp-tests) benchmark and process the `slabinfo` file in it.\n",
    "\n",
    "**Benchmark name:** `fsmark-1hdd-1HDD-9B-ext4-1x-16d-256fpd-32t-fsyncBeforeClose-400M.yaml`\n",
    "\n",
    "**NOTE:** The specs of the VM (used to run the benchmark) is attached at the end of this notebook.\n",
    "\n",
    "## How the efficiency was calculated\n",
    "\n",
    "\n",
    "The efficiency means how much space the used objects need in principle, divided by the real memory usage.\n",
    "\n",
    "> efficiency_in_percent = (num_objs * objsize * 100) / (num_slabs * (page_size * 2 ** order))\n",
    "\n",
    "The efficiency is calculated individually for each slab cache seperatedly in time.\n",
    "\n",
    "Taken from [linux/tools/vm/slabinfo.c](https://github.com/torvalds/linux/blob/8a8c600de5dc1d9a7f4b83269fddc80ebd3dd045/tools/vm/slabinfo.c#L644)\n",
    "\n",
    "\n",
    "## Install instructions\n",
    "\n",
    "```bash\n",
    "# or via ssh\n",
    "git clone --depth 1 https://github.com/intel/lkp-tests\n",
    "\n",
    "cd lkp-tests\n",
    "# If this fails, try another OS\n",
    "sudo make install\n",
    "\n",
    "cd ..\n",
    "\n",
    "# Adapt the lkp-tests/hosts/YOUR_HOSTNAME file to have a `hdd_partition` section\n",
    "# You can use the `create-block-device.sh` script provided in the root of this repository \n",
    "\n",
    "# This MUST be done after EVERY change to the \"lkp-tests/hosts/YOUR_HOSTNAME\" file!\n",
    "lkp split lkp-tests/jobs/fsmark-1hdd.yaml\n",
    "\n",
    "sudo lkp install fsmark-1hdd-1HDD-9B-ext4-1x-16d-256fpd-32t-fsyncBeforeClose-400M.yaml\n",
    "sudo lkp run fsmark-1hdd-1HDD-9B-ext4-1x-16d-256fpd-32t-fsyncBeforeClose-400M.yaml\n",
    "```"
   ]
  },
  {
   "cell_type": "markdown",
   "metadata": {},
   "source": [
    "## Result\n",
    "\n",
    "![Benchmark](images/___lkp___result___fsmark___1HDD-9B-ext4-1x-16d-256fpd-32t-fsyncBeforeClose-400M___david-vm-ubuntu___ubuntu___x86_64-rhel-7.6___gcc-7___5.0.0-31-generic___2.png)\n",
    "\n",
    "This is a histogram of the efficiencies of ALL slab caches over the whole time.\n",
    "\n",
    "**NOTE** this is not a weighted histogram, i.e. a small slab cache with 100% efficiency has the same weight as a very big slab cache with only 50% efficiency. So this histogram should be taken with a grain of salt"
   ]
  },
  {
   "cell_type": "code",
   "execution_count": 29,
   "metadata": {},
   "outputs": [
    {
     "name": "stdout",
     "output_type": "stream",
     "text": [
      "[NbConvertApp] Converting notebook process.ipynb to rst\n",
      "[NbConvertApp] Support files will be in process_files/\n",
      "[NbConvertApp] Making directory process_files\n",
      "[NbConvertApp] Writing 10706 bytes to process.rst\n"
     ]
    }
   ],
   "source": [
    "# Convert this notebook\n",
    "!jupyter nbconvert --to rst process.ipynb"
   ]
  },
  {
   "cell_type": "markdown",
   "metadata": {},
   "source": [
    "## Retrieve lkp-tests result folder from VM"
   ]
  },
  {
   "cell_type": "code",
   "execution_count": null,
   "metadata": {},
   "outputs": [],
   "source": [
    "HOST=\"david-vm-ubuntu\"\n",
    "!mkdir -p results\n",
    "!mv results/result results/result_`(date +%s)`\n",
    "!ssh {HOST} 'cd projects; echo \"a\" | sudo -S ./save_slab_orders.sh'\n",
    "!scp -r -q {HOST}:projects/result results\n",
    "!ssh {HOST} 'ls -l projects/result | cut -d \">\" -f 2' > results/result/job"
   ]
  },
  {
   "cell_type": "markdown",
   "metadata": {},
   "source": [
    "## Parse results"
   ]
  },
  {
   "cell_type": "code",
   "execution_count": 17,
   "metadata": {},
   "outputs": [],
   "source": [
    "import os\n",
    "\n",
    "FOLDER = 'results/result'\n",
    "FILE = FOLDER + '/slabinfo'\n",
    "IMAGE_FOLDER = 'images'\n",
    "\n",
    "os.makedirs(IMAGE_FOLDER, exist_ok=True)\n",
    "\n",
    "with open(FOLDER + '/job') as f:\n",
    "    job_name = f.read().strip()\n",
    "\n",
    "with open(FILE) as f:\n",
    "    slab_info = f.read().splitlines()\n",
    "\n",
    "with open(FOLDER + '/orders') as f:\n",
    "    orders = {x.split()[0]: int(x.split()[1]) for x in f.readlines()}\n",
    "\n",
    "# Extracted from `slabinfo`\n",
    "headers = [\n",
    "    'time',\n",
    "    'name',\n",
    "    'active_objs',\n",
    "    'num_objs',\n",
    "    'objsize',\n",
    "    'objperslab',\n",
    "    'pagesperslab',\n",
    "    'tunables',\n",
    "    'limit',\n",
    "    'batchcount',\n",
    "    'sharedfactor',\n",
    "    'slabdata',\n",
    "    'active_slabs',\n",
    "    'num_slabs',\n",
    "    'sharedavail',\n",
    "]\n",
    "\n",
    "def convert_num(x):\n",
    "    try:\n",
    "        return int(x)\n",
    "    except:\n",
    "        return x\n",
    "\n",
    "def parse_slabinfo_log(lkp_tests_slab_info):\n",
    "    data = []\n",
    "    current = None\n",
    "    \n",
    "    for line in slab_info:\n",
    "        if line.startswith('time:'):\n",
    "            current = int(line.split()[-1])\n",
    "            continue\n",
    "        if line.startswith('# name'):\n",
    "            continue\n",
    "        if line.startswith('slabinfo'):\n",
    "            continue\n",
    "\n",
    "        l = [current] + [convert_num(x.strip()) for x in line.split() if x is not ':']\n",
    "        assert len(l) == len(headers)\n",
    "        data.append(l)\n",
    "    return data\n",
    "\n",
    "data = parse_slabinfo_log(slab_info)"
   ]
  },
  {
   "cell_type": "markdown",
   "metadata": {},
   "source": [
    "## Create visualizations"
   ]
  },
  {
   "cell_type": "code",
   "execution_count": 20,
   "metadata": {},
   "outputs": [
    {
     "name": "stdout",
     "output_type": "stream",
     "text": [
      "Test took: 3.13 minutes\n"
     ]
    },
    {
     "data": {
      "image/png": "[encoded data removed]",
      "text/plain": [
       "<Figure size 1008x288 with 1 Axes>"
      ]
     },
     "metadata": {
      "needs_background": "light"
     },
     "output_type": "display_data"
    }
   ],
   "source": [
    "%matplotlib inline\n",
    "import pandas as pd\n",
    "import matplotlib.pyplot as plt\n",
    "\n",
    "df = pd.DataFrame(data, columns=headers)\n",
    "\n",
    "#df = df[df.name == 'dentry']\n",
    "\n",
    "df['order'] = df.name.apply(lambda x: orders.get(x, 0))\n",
    "df['page_size'] = 4096\n",
    "\n",
    "df['active_vs_num'] = df.active_objs / df.num_objs\n",
    "\n",
    "df['ef'] = df.num_objs * df.objsize * 100 / (df.num_slabs * (df.page_size * 2 ** df.order))\n",
    "\n",
    "ax = df.ef.plot(kind='hist', bins=100, figsize=(14, 4))\n",
    "\n",
    "ax.set_title(f'SLAB efficiency (histogram)')\n",
    "ax.set_xlabel('Efficiency in %')\n",
    "\n",
    "def sanitize_name(x):\n",
    "    return x.replace('/', '___')\n",
    "\n",
    "plt.savefig(f'{IMAGE_FOLDER}/{sanitize_name(job_name)}.png')\n",
    "\n",
    "duration_in_seconds = max(df.time.values) - min(df.time.values)\n",
    "print(f'Test took: {duration_in_seconds / 60:.2f} minutes')"
   ]
  },
  {
   "cell_type": "code",
   "execution_count": 13,
   "metadata": {},
   "outputs": [
    {
     "data": {
      "text/plain": [
       "'/lkp/result/fsmark/1HDD-9B-ext4-1x-16d-256fpd-32t-fsyncBeforeClose-400M/david-vm-ubuntu/ubuntu/x86_64-rhel-7.6/gcc-7/5.0.0-31-generic/2'"
      ]
     },
     "execution_count": 13,
     "metadata": {},
     "output_type": "execute_result"
    }
   ],
   "source": [
    "job_name"
   ]
  },
  {
   "cell_type": "markdown",
   "metadata": {},
   "source": [
    "## VM specs\n",
    "\n",
    "**uname -a**: Linux david-vm-ubuntu 5.0.0-31-generic #33~18.04.1-Ubuntu SMP Tue Oct 1 10:20:39 UTC 2019 x86_64 x86_64 x86_64 GNU/Linux"
   ]
  },
  {
   "cell_type": "markdown",
   "metadata": {},
   "source": [
    "<pre>\n",
    "Name:                        Ubuntu\n",
    "Groups:                      /\n",
    "Guest OS:                    Ubuntu (64-bit)\n",
    "UUID:                        517d91b9-e324-470f-b1f3-dcaf40f3ab01\n",
    "Config file:                 /home/dgengenbach/VirtualBox VMs/Ubuntu/Ubuntu.vbox\n",
    "Snapshot folder:             /home/dgengenbach/VirtualBox VMs/Ubuntu/Snapshots\n",
    "Log folder:                  /home/dgengenbach/VirtualBox VMs/Ubuntu/Logs\n",
    "Hardware UUID:               517d91b9-e324-470f-b1f3-dcaf40f3ab01\n",
    "Memory size                  16384MB\n",
    "Page Fusion:                 disabled\n",
    "VRAM size:                   16MB\n",
    "CPU exec cap:                100%\n",
    "HPET:                        disabled\n",
    "CPUProfile:                  host\n",
    "Chipset:                     piix3\n",
    "Firmware:                    BIOS\n",
    "Number of CPUs:              4\n",
    "PAE:                         disabled\n",
    "Long Mode:                   enabled\n",
    "Triple Fault Reset:          disabled\n",
    "APIC:                        enabled\n",
    "X2APIC:                      enabled\n",
    "Nested VT-x/AMD-V:           disabled\n",
    "CPUID Portability Level:     0\n",
    "CPUID overrides:             None\n",
    "Boot menu mode:              message and menu\n",
    "Boot Device 1:               Floppy\n",
    "Boot Device 2:               DVD\n",
    "Boot Device 3:               HardDisk\n",
    "Boot Device 4:               Not Assigned\n",
    "ACPI:                        enabled\n",
    "IOAPIC:                      enabled\n",
    "BIOS APIC mode:              APIC\n",
    "Time offset:                 0ms\n",
    "RTC:                         UTC\n",
    "Hardw. virt.ext:             enabled\n",
    "Nested Paging:               enabled\n",
    "Large Pages:                 disabled\n",
    "VT-x VPID:                   enabled\n",
    "VT-x unr. exec.:             enabled\n",
    "Paravirt. Provider:          Default\n",
    "Effective Paravirt. Prov.:   KVM\n",
    "State:                       running (since 2019-10-10T10:10:24.186000000)\n",
    "Monitor count:               1\n",
    "3D Acceleration:             disabled\n",
    "2D Video Acceleration:       disabled\n",
    "Teleporter Enabled:          disabled\n",
    "Teleporter Port:             0\n",
    "Teleporter Address:          \n",
    "Teleporter Password:         \n",
    "Tracing Enabled:             disabled\n",
    "Allow Tracing to Access VM:  disabled\n",
    "Tracing Configuration:       \n",
    "Autostart Enabled:           disabled\n",
    "Autostart Delay:             0\n",
    "Default Frontend:            \n",
    "Storage Controller Name (0):            IDE\n",
    "Storage Controller Type (0):            PIIX4\n",
    "Storage Controller Instance Number (0): 0\n",
    "Storage Controller Max Port Count (0):  2\n",
    "Storage Controller Port Count (0):      2\n",
    "Storage Controller Bootable (0):        on\n",
    "Storage Controller Name (1):            SATA\n",
    "Storage Controller Type (1):            IntelAhci\n",
    "Storage Controller Instance Number (1): 0\n",
    "Storage Controller Max Port Count (1):  30\n",
    "Storage Controller Port Count (1):      1\n",
    "Storage Controller Bootable (1):        on\n",
    "IDE (1, 0): Empty\n",
    "SATA (0, 0): /home/dgengenbach/VirtualBox VMs/Ubuntu/Ubuntu.vdi (UUID: 466e9eb9-b4f4-4088-9a6f-fc60775b5c8c)\n",
    "NIC 1:                       MAC: 080027CA5503, Attachment: Bridged Interface 'eno1', Cable connected: on, Trace: off (file: none), Type: 82540EM, Reported speed: 0 Mbps, Boot priority: 0, Promisc Policy: deny, Bandwidth group: none\n",
    "NIC 2:                       disabled\n",
    "NIC 3:                       disabled\n",
    "NIC 4:                       disabled\n",
    "NIC 5:                       disabled\n",
    "NIC 6:                       disabled\n",
    "NIC 7:                       disabled\n",
    "NIC 8:                       disabled\n",
    "Pointing Device:             USB Tablet\n",
    "Keyboard Device:             PS/2 Keyboard\n",
    "UART 1:                      disabled\n",
    "UART 2:                      disabled\n",
    "UART 3:                      disabled\n",
    "UART 4:                      disabled\n",
    "LPT 1:                       disabled\n",
    "LPT 2:                       disabled\n",
    "Audio:                       enabled (Driver: PulseAudio, Controller: AC97, Codec: AD1980)\n",
    "Audio playback:              enabled\n",
    "Audio capture:               disabled\n",
    "Clipboard Mode:              disabled\n",
    "Drag and drop Mode:          disabled\n",
    "Session name:                headless\n",
    "Video mode:                  800x600x32 at 0,0 enabled\n",
    "VRDE:                        disabled\n",
    "OHCI USB:                    enabled\n",
    "EHCI USB:                    disabled\n",
    "xHCI USB:                    disabled\n",
    "\n",
    "USB Device Filters:\n",
    "\n",
    "<none>\n",
    "\n",
    "Available remote USB devices:\n",
    "\n",
    "<none>\n",
    "\n",
    "Currently Attached USB Devices:\n",
    "\n",
    "<none>\n",
    "\n",
    "Bandwidth groups:  <none>\n",
    "\n",
    "Shared folders:<none>\n",
    "\n",
    "VRDE Connection:             not active\n",
    "Clients so far:              0\n",
    "\n",
    "Capturing:                   not active\n",
    "Capture audio:               not active\n",
    "Capture screens:             0\n",
    "Capture file:                /home/dgengenbach/VirtualBox VMs/Ubuntu/Ubuntu.webm\n",
    "Capture dimensions:          1024x768\n",
    "Capture rate:                512kbps\n",
    "Capture FPS:                 25kbps\n",
    "Capture options:             \n",
    "\n",
    "Guest:\n",
    "\n",
    "Configured memory balloon size: 0MB\n",
    "OS type:                     Linux26_64\n",
    "Additions run level:         1\n",
    "Additions version            6.0.6_KernelUbuntu r129722\n",
    "\n",
    "Guest Facilities:\n",
    "\n",
    "Facility \"VirtualBox Base Driver\": active/running (last update: 2019/10/10 10:10:31 UTC)\n",
    "Facility \"Seamless Mode\": not active (last update: 2019/10/10 10:10:31 UTC)\n",
    "Facility \"Graphics Mode\": not active (last update: 2019/10/10 10:10:31 UTC)\n",
    "</pre>"
   ]
  }
 ],
 "metadata": {
  "kernelspec": {
   "display_name": "Python 3",
   "language": "python",
   "name": "python3"
  },
  "language_info": {
   "codemirror_mode": {
    "name": "ipython",
    "version": 3
   },
   "file_extension": ".py",
   "mimetype": "text/x-python",
   "name": "python",
   "nbconvert_exporter": "python",
   "pygments_lexer": "ipython3",
   "version": "3.7.3"
  }
 },
 "nbformat": 4,
 "nbformat_minor": 2
}
